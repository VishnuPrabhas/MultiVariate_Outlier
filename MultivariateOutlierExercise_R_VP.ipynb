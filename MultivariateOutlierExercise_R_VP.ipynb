{
 "cells": [
  {
   "cell_type": "markdown",
   "metadata": {
    "id": "m_0IeRbLGWjA"
   },
   "source": [
    "**Install packages**"
   ]
  },
  {
   "cell_type": "code",
   "execution_count": null,
   "metadata": {
    "colab": {
     "base_uri": "https://localhost:8080/"
    },
    "id": "aLeB1yyiGTUJ",
    "outputId": "f2ca69ba-e315-4e60-f296-5d2642372f1c"
   },
   "outputs": [
    {
     "name": "stderr",
     "output_type": "stream",
     "text": [
      "Installing package into ‘/usr/local/lib/R/site-library’\n",
      "(as ‘lib’ is unspecified)\n",
      "\n",
      "also installing the dependencies ‘sass’, ‘jquerylib’, ‘httpuv’, ‘xtable’, ‘sourcetools’, ‘bslib’, ‘colourpicker’, ‘miniUI’, ‘shiny’, ‘shinyjs’\n",
      "\n",
      "\n",
      "Installing package into ‘/usr/local/lib/R/site-library’\n",
      "(as ‘lib’ is unspecified)\n",
      "\n"
     ]
    }
   ],
   "source": [
    "# Package for ggplot2 enhancements\n",
    "install.packages(\"ggExtra\")\n",
    "\n",
    "# Package for multivariate normal distribution\n",
    "install.packages('mvtnorm')"
   ]
  },
  {
   "cell_type": "markdown",
   "metadata": {
    "id": "cBwU1D1ib2o6"
   },
   "source": [
    "**Load essential libraries**"
   ]
  },
  {
   "cell_type": "code",
   "execution_count": 2,
   "metadata": {
    "ExecuteTime": {
     "end_time": "2021-04-06T09:02:48.876643Z",
     "start_time": "2021-04-06T09:02:48.373Z"
    },
    "colab": {
     "base_uri": "https://localhost:8080/"
    },
    "id": "4DhQTLweb138",
    "outputId": "c3941a5a-d1c9-46fa-9446-a7f874608178"
   },
   "outputs": [
    {
     "name": "stderr",
     "output_type": "stream",
     "text": [
      "Warning message:\n",
      "\"package 'ggplot2' was built under R version 3.6.3\"Warning message:\n",
      "\"package 'dplyr' was built under R version 3.6.3\"\n",
      "Attaching package: 'dplyr'\n",
      "\n",
      "The following objects are masked from 'package:stats':\n",
      "\n",
      "    filter, lag\n",
      "\n",
      "The following objects are masked from 'package:base':\n",
      "\n",
      "    intersect, setdiff, setequal, union\n",
      "\n",
      "Warning message:\n",
      "\"package 'ggExtra' was built under R version 3.6.3\"Warning message:\n",
      "\"package 'mvtnorm' was built under R version 3.6.3\"Warning message:\n",
      "\"package 'tidyr' was built under R version 3.6.3\""
     ]
    }
   ],
   "source": [
    "library(ggplot2) # library for plotting\n",
    "library(dplyr) # library for data wrangling\n",
    "library(ggExtra) # library for enhanced ggplot2 plots\n",
    "library(mvtnorm) # library for multivariate normal distribution\n",
    "library(tidyr) # library to reorganize data"
   ]
  },
  {
   "cell_type": "code",
   "execution_count": 3,
   "metadata": {
    "ExecuteTime": {
     "end_time": "2021-04-06T09:02:51.509439Z",
     "start_time": "2021-04-06T09:02:48.932Z"
    },
    "colab": {
     "base_uri": "https://localhost:8080/"
    },
    "id": "3NfALqh66Jy0",
    "outputId": "504c4892-c952-45f8-ee53-70bfc347a0f6"
   },
   "outputs": [
    {
     "name": "stdout",
     "output_type": "stream",
     "text": [
      "List of 3\n",
      " $ X   : num [1:1000, 1:11] 6.65 -5.63 9.72 -4.64 -12.84 ...\n",
      " $ Xval: num [1:100, 1:11] 18.27 -3.19 -5.26 12.95 3.76 ...\n",
      " $ yval: num [1:100, 1] 1 0 0 1 0 0 0 0 0 0 ...\n",
      " - attr(*, \"header\")=List of 3\n",
      "  ..$ description: chr \"MATLAB 5.0 MAT-file, Platform: GLNXA64, Created on: Thu Dec  1 23:12:48 2011                                                \"\n",
      "  ..$ version    : chr \"5\"\n",
      "  ..$ endian     : chr \"little\"\n"
     ]
    }
   ],
   "source": [
    "# Load RData file data2.RData\n",
    "load(url('https://tinyurl.com/527nxn23'))\n",
    "str(data2)"
   ]
  },
  {
   "cell_type": "code",
   "execution_count": 4,
   "metadata": {
    "ExecuteTime": {
     "end_time": "2021-04-06T09:02:51.547339Z",
     "start_time": "2021-04-06T09:02:49.565Z"
    },
    "colab": {
     "base_uri": "https://localhost:8080/",
     "height": 182
    },
    "id": "a7KbwXXcK9lQ",
    "outputId": "30d74c8d-1a86-4d03-edaa-a5dd5a504ad2"
   },
   "outputs": [
    {
     "data": {
      "text/html": [
       "<table class=\"dataframe\">\n",
       "<caption>A matrix: 5 × 11 of type dbl</caption>\n",
       "<tbody>\n",
       "\t<tr><td>  6.653114</td><td> 13.689702</td><td>17.552845</td><td>-11.933497</td><td> -5.756409</td><td>15.435921</td><td>-12.1367520</td><td> 8.2241226</td><td> -4.8840241</td><td> 5.3493353</td><td>17.351372352</td></tr>\n",
       "\t<tr><td> -5.630542</td><td>-18.937667</td><td>18.644624</td><td> -6.155825</td><td>-25.988864</td><td>15.409553</td><td>-16.5955163</td><td> 9.4546537</td><td> -2.8771734</td><td>-6.0094204</td><td>19.210636116</td></tr>\n",
       "\t<tr><td>  9.721525</td><td> -9.982489</td><td>15.571434</td><td>-32.224266</td><td> -5.595799</td><td>24.321383</td><td>  0.8327735</td><td>10.7945546</td><td>  0.7275748</td><td>10.3929750</td><td> 7.085994903</td></tr>\n",
       "\t<tr><td> -4.635766</td><td>-10.716040</td><td>20.356571</td><td> -9.002097</td><td> -4.920569</td><td>-4.261957</td><td> -1.3058288</td><td> 0.9499803</td><td> -8.6341066</td><td> 0.1984454</td><td> 0.006771413</td></tr>\n",
       "\t<tr><td>-12.841044</td><td>-20.388313</td><td> 9.491936</td><td> -7.038500</td><td> -9.921087</td><td>-3.716105</td><td> -9.3847304</td><td>-2.3255336</td><td>-13.5185624</td><td>11.0070290</td><td>14.003210283</td></tr>\n",
       "</tbody>\n",
       "</table>\n"
      ],
      "text/latex": [
       "A matrix: 5 × 11 of type dbl\n",
       "\\begin{tabular}{lllllllllll}\n",
       "\t   6.653114 &  13.689702 & 17.552845 & -11.933497 &  -5.756409 & 15.435921 & -12.1367520 &  8.2241226 &  -4.8840241 &  5.3493353 & 17.351372352\\\\\n",
       "\t  -5.630542 & -18.937667 & 18.644624 &  -6.155825 & -25.988864 & 15.409553 & -16.5955163 &  9.4546537 &  -2.8771734 & -6.0094204 & 19.210636116\\\\\n",
       "\t   9.721525 &  -9.982489 & 15.571434 & -32.224266 &  -5.595799 & 24.321383 &   0.8327735 & 10.7945546 &   0.7275748 & 10.3929750 &  7.085994903\\\\\n",
       "\t  -4.635766 & -10.716040 & 20.356571 &  -9.002097 &  -4.920569 & -4.261957 &  -1.3058288 &  0.9499803 &  -8.6341066 &  0.1984454 &  0.006771413\\\\\n",
       "\t -12.841044 & -20.388313 &  9.491936 &  -7.038500 &  -9.921087 & -3.716105 &  -9.3847304 & -2.3255336 & -13.5185624 & 11.0070290 & 14.003210283\\\\\n",
       "\\end{tabular}\n"
      ],
      "text/markdown": [
       "\n",
       "A matrix: 5 × 11 of type dbl\n",
       "\n",
       "|   6.653114 |  13.689702 | 17.552845 | -11.933497 |  -5.756409 | 15.435921 | -12.1367520 |  8.2241226 |  -4.8840241 |  5.3493353 | 17.351372352 |\n",
       "|  -5.630542 | -18.937667 | 18.644624 |  -6.155825 | -25.988864 | 15.409553 | -16.5955163 |  9.4546537 |  -2.8771734 | -6.0094204 | 19.210636116 |\n",
       "|   9.721525 |  -9.982489 | 15.571434 | -32.224266 |  -5.595799 | 24.321383 |   0.8327735 | 10.7945546 |   0.7275748 | 10.3929750 |  7.085994903 |\n",
       "|  -4.635766 | -10.716040 | 20.356571 |  -9.002097 |  -4.920569 | -4.261957 |  -1.3058288 |  0.9499803 |  -8.6341066 |  0.1984454 |  0.006771413 |\n",
       "| -12.841044 | -20.388313 |  9.491936 |  -7.038500 |  -9.921087 | -3.716105 |  -9.3847304 | -2.3255336 | -13.5185624 | 11.0070290 | 14.003210283 |\n",
       "\n"
      ],
      "text/plain": [
       "     [,1]       [,2]       [,3]      [,4]       [,5]       [,6]     \n",
       "[1,]   6.653114  13.689702 17.552845 -11.933497  -5.756409 15.435921\n",
       "[2,]  -5.630542 -18.937667 18.644624  -6.155825 -25.988864 15.409553\n",
       "[3,]   9.721525  -9.982489 15.571434 -32.224266  -5.595799 24.321383\n",
       "[4,]  -4.635766 -10.716040 20.356571  -9.002097  -4.920569 -4.261957\n",
       "[5,] -12.841044 -20.388313  9.491936  -7.038500  -9.921087 -3.716105\n",
       "     [,7]        [,8]       [,9]        [,10]      [,11]       \n",
       "[1,] -12.1367520  8.2241226  -4.8840241  5.3493353 17.351372352\n",
       "[2,] -16.5955163  9.4546537  -2.8771734 -6.0094204 19.210636116\n",
       "[3,]   0.8327735 10.7945546   0.7275748 10.3929750  7.085994903\n",
       "[4,]  -1.3058288  0.9499803  -8.6341066  0.1984454  0.006771413\n",
       "[5,]  -9.3847304 -2.3255336 -13.5185624 11.0070290 14.003210283"
      ]
     },
     "metadata": {},
     "output_type": "display_data"
    }
   ],
   "source": [
    "# Training data\n",
    "X_train = data2$X # training data as matrix (all samples here are non-anomalous)\n",
    "df_train = as.data.frame(X_train) # training data frame\n",
    "head(X_train, n = 5)"
   ]
  },
  {
   "cell_type": "code",
   "execution_count": 5,
   "metadata": {
    "ExecuteTime": {
     "end_time": "2021-04-06T09:02:51.593215Z",
     "start_time": "2021-04-06T09:02:50.125Z"
    },
    "colab": {
     "base_uri": "https://localhost:8080/",
     "height": 430
    },
    "id": "PHS_Ch7WLYE_",
    "outputId": "ebc5d8b1-f7ec-4781-e9c8-63fcd8e007e0"
   },
   "outputs": [
    {
     "data": {
      "text/html": [
       "<table class=\"dataframe\">\n",
       "<caption>A matrix: 5 × 11 of type dbl</caption>\n",
       "<tbody>\n",
       "\t<tr><td>18.271283</td><td>-12.359268</td><td> 5.000970</td><td>  1.611472</td><td> 1.088592</td><td>29.31441</td><td> -8.313531</td><td>36.438338</td><td> -9.4766787</td><td>-25.9281827</td><td> 7.108628</td></tr>\n",
       "\t<tr><td>-3.193070</td><td>-19.705821</td><td> 6.528556</td><td>-21.570858</td><td> 3.050556</td><td>23.47750</td><td> -1.133420</td><td>12.688409</td><td>-10.9683011</td><td> -1.1986661</td><td> 1.908441</td></tr>\n",
       "\t<tr><td>-5.256678</td><td>-12.918720</td><td>25.435141</td><td> -7.231568</td><td> 3.647838</td><td>12.36655</td><td> -6.512076</td><td> 8.750902</td><td> -0.7687545</td><td> -3.2610945</td><td>13.729474</td></tr>\n",
       "\t<tr><td>12.953176</td><td>-10.350333</td><td>19.857858</td><td>-24.424608</td><td> 3.266105</td><td>30.44529</td><td>-11.125842</td><td>12.815629</td><td>  9.3513545</td><td> -6.1136236</td><td>17.627375</td></tr>\n",
       "\t<tr><td> 3.763819</td><td> -5.728187</td><td>11.400169</td><td>-17.555297</td><td>-6.246576</td><td>16.15597</td><td> -9.724758</td><td>16.996616</td><td> -5.1686543</td><td>  0.1879945</td><td>11.401234</td></tr>\n",
       "</tbody>\n",
       "</table>\n"
      ],
      "text/latex": [
       "A matrix: 5 × 11 of type dbl\n",
       "\\begin{tabular}{lllllllllll}\n",
       "\t 18.271283 & -12.359268 &  5.000970 &   1.611472 &  1.088592 & 29.31441 &  -8.313531 & 36.438338 &  -9.4766787 & -25.9281827 &  7.108628\\\\\n",
       "\t -3.193070 & -19.705821 &  6.528556 & -21.570858 &  3.050556 & 23.47750 &  -1.133420 & 12.688409 & -10.9683011 &  -1.1986661 &  1.908441\\\\\n",
       "\t -5.256678 & -12.918720 & 25.435141 &  -7.231568 &  3.647838 & 12.36655 &  -6.512076 &  8.750902 &  -0.7687545 &  -3.2610945 & 13.729474\\\\\n",
       "\t 12.953176 & -10.350333 & 19.857858 & -24.424608 &  3.266105 & 30.44529 & -11.125842 & 12.815629 &   9.3513545 &  -6.1136236 & 17.627375\\\\\n",
       "\t  3.763819 &  -5.728187 & 11.400169 & -17.555297 & -6.246576 & 16.15597 &  -9.724758 & 16.996616 &  -5.1686543 &   0.1879945 & 11.401234\\\\\n",
       "\\end{tabular}\n"
      ],
      "text/markdown": [
       "\n",
       "A matrix: 5 × 11 of type dbl\n",
       "\n",
       "| 18.271283 | -12.359268 |  5.000970 |   1.611472 |  1.088592 | 29.31441 |  -8.313531 | 36.438338 |  -9.4766787 | -25.9281827 |  7.108628 |\n",
       "| -3.193070 | -19.705821 |  6.528556 | -21.570858 |  3.050556 | 23.47750 |  -1.133420 | 12.688409 | -10.9683011 |  -1.1986661 |  1.908441 |\n",
       "| -5.256678 | -12.918720 | 25.435141 |  -7.231568 |  3.647838 | 12.36655 |  -6.512076 |  8.750902 |  -0.7687545 |  -3.2610945 | 13.729474 |\n",
       "| 12.953176 | -10.350333 | 19.857858 | -24.424608 |  3.266105 | 30.44529 | -11.125842 | 12.815629 |   9.3513545 |  -6.1136236 | 17.627375 |\n",
       "|  3.763819 |  -5.728187 | 11.400169 | -17.555297 | -6.246576 | 16.15597 |  -9.724758 | 16.996616 |  -5.1686543 |   0.1879945 | 11.401234 |\n",
       "\n"
      ],
      "text/plain": [
       "     [,1]      [,2]       [,3]      [,4]       [,5]      [,6]     [,7]      \n",
       "[1,] 18.271283 -12.359268  5.000970   1.611472  1.088592 29.31441  -8.313531\n",
       "[2,] -3.193070 -19.705821  6.528556 -21.570858  3.050556 23.47750  -1.133420\n",
       "[3,] -5.256678 -12.918720 25.435141  -7.231568  3.647838 12.36655  -6.512076\n",
       "[4,] 12.953176 -10.350333 19.857858 -24.424608  3.266105 30.44529 -11.125842\n",
       "[5,]  3.763819  -5.728187 11.400169 -17.555297 -6.246576 16.15597  -9.724758\n",
       "     [,8]      [,9]        [,10]       [,11]    \n",
       "[1,] 36.438338  -9.4766787 -25.9281827  7.108628\n",
       "[2,] 12.688409 -10.9683011  -1.1986661  1.908441\n",
       "[3,]  8.750902  -0.7687545  -3.2610945 13.729474\n",
       "[4,] 12.815629   9.3513545  -6.1136236 17.627375\n",
       "[5,] 16.996616  -5.1686543   0.1879945 11.401234"
      ]
     },
     "metadata": {},
     "output_type": "display_data"
    },
    {
     "data": {
      "text/html": [
       "<table class=\"dataframe\">\n",
       "<caption>A matrix: 5 × 1 of type dbl</caption>\n",
       "<tbody>\n",
       "\t<tr><td>1</td></tr>\n",
       "\t<tr><td>0</td></tr>\n",
       "\t<tr><td>0</td></tr>\n",
       "\t<tr><td>1</td></tr>\n",
       "\t<tr><td>0</td></tr>\n",
       "</tbody>\n",
       "</table>\n"
      ],
      "text/latex": [
       "A matrix: 5 × 1 of type dbl\n",
       "\\begin{tabular}{l}\n",
       "\t 1\\\\\n",
       "\t 0\\\\\n",
       "\t 0\\\\\n",
       "\t 1\\\\\n",
       "\t 0\\\\\n",
       "\\end{tabular}\n"
      ],
      "text/markdown": [
       "\n",
       "A matrix: 5 × 1 of type dbl\n",
       "\n",
       "| 1 |\n",
       "| 0 |\n",
       "| 0 |\n",
       "| 1 |\n",
       "| 0 |\n",
       "\n"
      ],
      "text/plain": [
       "     [,1]\n",
       "[1,] 1   \n",
       "[2,] 0   \n",
       "[3,] 0   \n",
       "[4,] 1   \n",
       "[5,] 0   "
      ]
     },
     "metadata": {},
     "output_type": "display_data"
    }
   ],
   "source": [
    "# Validation data\n",
    "X_validate = data2$Xval # validation data as matrix\n",
    "y_validate = data2$yval # validation data labels\n",
    "df_validate = as.data.frame(X_validate) # validation data frame\n",
    "head(X_validate, n = 5)\n",
    "head(y_validate, n = 5) # 1 represents an outlier sample, 0 represents a regular sample"
   ]
  },
  {
   "cell_type": "code",
   "execution_count": 6,
   "metadata": {
    "ExecuteTime": {
     "end_time": "2021-04-06T09:02:51.627125Z",
     "start_time": "2021-04-06T09:02:50.837Z"
    },
    "colab": {
     "base_uri": "https://localhost:8080/",
     "height": 34
    },
    "id": "8_3Xh3TUL_gQ",
    "outputId": "b59f3db1-d67f-4e26-f769-31fd8fc76790"
   },
   "outputs": [
    {
     "data": {
      "text/html": [
       "0.1"
      ],
      "text/latex": [
       "0.1"
      ],
      "text/markdown": [
       "0.1"
      ],
      "text/plain": [
       "[1] 0.1"
      ]
     },
     "metadata": {},
     "output_type": "display_data"
    }
   ],
   "source": [
    "# Fraction of servers that are outliers in the validation set\n",
    "mean(y_validate == 1)  # supervised algorithms have to address such class imbalance"
   ]
  },
  {
   "cell_type": "code",
   "execution_count": 7,
   "metadata": {
    "ExecuteTime": {
     "end_time": "2021-04-06T09:02:51.678986Z",
     "start_time": "2021-04-06T09:02:51.366Z"
    },
    "colab": {
     "base_uri": "https://localhost:8080/",
     "height": 242
    },
    "id": "Zw3ZnpYB8fCG",
    "outputId": "aeb9638c-4a23-47f8-a6de-be0921ad6e61"
   },
   "outputs": [
    {
     "data": {
      "text/html": [
       "<table class=\"dataframe\">\n",
       "<caption>A data.frame: 5 × 2</caption>\n",
       "<thead>\n",
       "\t<tr><th></th><th scope=col>Variable</th><th scope=col>Value</th></tr>\n",
       "\t<tr><th></th><th scope=col>&lt;chr&gt;</th><th scope=col>&lt;dbl&gt;</th></tr>\n",
       "</thead>\n",
       "<tbody>\n",
       "\t<tr><th scope=row>1</th><td>V1</td><td>  6.653114</td></tr>\n",
       "\t<tr><th scope=row>2</th><td>V1</td><td> -5.630542</td></tr>\n",
       "\t<tr><th scope=row>3</th><td>V1</td><td>  9.721525</td></tr>\n",
       "\t<tr><th scope=row>4</th><td>V1</td><td> -4.635766</td></tr>\n",
       "\t<tr><th scope=row>5</th><td>V1</td><td>-12.841044</td></tr>\n",
       "</tbody>\n",
       "</table>\n"
      ],
      "text/latex": [
       "A data.frame: 5 × 2\n",
       "\\begin{tabular}{r|ll}\n",
       "  & Variable & Value\\\\\n",
       "  & <chr> & <dbl>\\\\\n",
       "\\hline\n",
       "\t1 & V1 &   6.653114\\\\\n",
       "\t2 & V1 &  -5.630542\\\\\n",
       "\t3 & V1 &   9.721525\\\\\n",
       "\t4 & V1 &  -4.635766\\\\\n",
       "\t5 & V1 & -12.841044\\\\\n",
       "\\end{tabular}\n"
      ],
      "text/markdown": [
       "\n",
       "A data.frame: 5 × 2\n",
       "\n",
       "| <!--/--> | Variable &lt;chr&gt; | Value &lt;dbl&gt; |\n",
       "|---|---|---|\n",
       "| 1 | V1 |   6.653114 |\n",
       "| 2 | V1 |  -5.630542 |\n",
       "| 3 | V1 |   9.721525 |\n",
       "| 4 | V1 |  -4.635766 |\n",
       "| 5 | V1 | -12.841044 |\n",
       "\n"
      ],
      "text/plain": [
       "  Variable Value     \n",
       "1 V1         6.653114\n",
       "2 V1        -5.630542\n",
       "3 V1         9.721525\n",
       "4 V1        -4.635766\n",
       "5 V1       -12.841044"
      ]
     },
     "metadata": {},
     "output_type": "display_data"
    }
   ],
   "source": [
    "# Wide to long dataframe containing training data\n",
    "df_gather_train = gather(as.data.frame(X_train))\n",
    "colnames(df_gather_train) = c('Variable', 'Value')\n",
    "head(df_gather_train, n = 5)"
   ]
  },
  {
   "cell_type": "code",
   "execution_count": 8,
   "metadata": {
    "ExecuteTime": {
     "end_time": "2021-04-06T09:02:52.540974Z",
     "start_time": "2021-04-06T09:02:52.503Z"
    },
    "colab": {
     "base_uri": "https://localhost:8080/",
     "height": 242
    },
    "id": "tNVOUaLvMpMA",
    "outputId": "bda49c74-25f5-42b7-d8c1-8ee31770776f"
   },
   "outputs": [
    {
     "data": {
      "text/html": [
       "<table class=\"dataframe\">\n",
       "<caption>A data.frame: 5 × 2</caption>\n",
       "<thead>\n",
       "\t<tr><th></th><th scope=col>Variable</th><th scope=col>Value</th></tr>\n",
       "\t<tr><th></th><th scope=col>&lt;chr&gt;</th><th scope=col>&lt;dbl&gt;</th></tr>\n",
       "</thead>\n",
       "<tbody>\n",
       "\t<tr><th scope=row>1</th><td>V1</td><td>18.271283</td></tr>\n",
       "\t<tr><th scope=row>2</th><td>V1</td><td>-3.193070</td></tr>\n",
       "\t<tr><th scope=row>3</th><td>V1</td><td>-5.256678</td></tr>\n",
       "\t<tr><th scope=row>4</th><td>V1</td><td>12.953176</td></tr>\n",
       "\t<tr><th scope=row>5</th><td>V1</td><td> 3.763819</td></tr>\n",
       "</tbody>\n",
       "</table>\n"
      ],
      "text/latex": [
       "A data.frame: 5 × 2\n",
       "\\begin{tabular}{r|ll}\n",
       "  & Variable & Value\\\\\n",
       "  & <chr> & <dbl>\\\\\n",
       "\\hline\n",
       "\t1 & V1 & 18.271283\\\\\n",
       "\t2 & V1 & -3.193070\\\\\n",
       "\t3 & V1 & -5.256678\\\\\n",
       "\t4 & V1 & 12.953176\\\\\n",
       "\t5 & V1 &  3.763819\\\\\n",
       "\\end{tabular}\n"
      ],
      "text/markdown": [
       "\n",
       "A data.frame: 5 × 2\n",
       "\n",
       "| <!--/--> | Variable &lt;chr&gt; | Value &lt;dbl&gt; |\n",
       "|---|---|---|\n",
       "| 1 | V1 | 18.271283 |\n",
       "| 2 | V1 | -3.193070 |\n",
       "| 3 | V1 | -5.256678 |\n",
       "| 4 | V1 | 12.953176 |\n",
       "| 5 | V1 |  3.763819 |\n",
       "\n"
      ],
      "text/plain": [
       "  Variable Value    \n",
       "1 V1       18.271283\n",
       "2 V1       -3.193070\n",
       "3 V1       -5.256678\n",
       "4 V1       12.953176\n",
       "5 V1        3.763819"
      ]
     },
     "metadata": {},
     "output_type": "display_data"
    }
   ],
   "source": [
    "# Wide to long dataframe containing validation data\n",
    "df_gather_validate = gather(as.data.frame(X_validate))\n",
    "colnames(df_gather_validate) = c('Variable', 'Value')\n",
    "head(df_gather_validate, n = 5)"
   ]
  },
  {
   "cell_type": "code",
   "execution_count": 9,
   "metadata": {
    "ExecuteTime": {
     "end_time": "2021-04-06T09:02:54.202515Z",
     "start_time": "2021-04-06T09:02:53.565Z"
    },
    "colab": {
     "base_uri": "https://localhost:8080/",
     "height": 437
    },
    "id": "qA7ylAiPNEFR",
    "outputId": "bba49282-6396-442b-e107-61142d967285"
   },
   "outputs": [
    {
     "data": {
      "image/png": "[encoded data removed]",
      "text/plain": [
       "plot without title"
      ]
     },
     "metadata": {},
     "output_type": "display_data"
    }
   ],
   "source": [
    "# Separate density plots for each variable (or features) in the training data\n",
    "df_gather_train %>% ggplot(aes(x = Value, fill = Variable, color = Variable))+\n",
    "geom_density(alpha = 0.3)+ggtitle('Distibution of variables from training data')\n",
    "\n",
    "# Which variable appears the least normally disributed?"
   ]
  },
  {
   "cell_type": "code",
   "execution_count": 10,
   "metadata": {
    "ExecuteTime": {
     "end_time": "2021-04-06T09:02:54.937469Z",
     "start_time": "2021-04-06T09:02:54.454Z"
    },
    "colab": {
     "base_uri": "https://localhost:8080/",
     "height": 437
    },
    "id": "67NCmd8L9AkD",
    "outputId": "4049f455-7d2a-411c-e066-8355d52316b9"
   },
   "outputs": [
    {
     "data": {
      "image/png": "[encoded data removed]",
      "text/plain": [
       "plot without title"
      ]
     },
     "metadata": {},
     "output_type": "display_data"
    }
   ],
   "source": [
    "# Separate density plots for each variable (or features) in the validation data\n",
    "df_gather_validate %>% ggplot(aes(x = Value, fill = Variable, color = Variable))+\n",
    "geom_density(alpha = 0.3)+ggtitle('Distibution of variables from validation data')\n",
    "\n",
    "# Which variable appears the least normally disributed?"
   ]
  },
  {
   "cell_type": "code",
   "execution_count": 11,
   "metadata": {
    "ExecuteTime": {
     "end_time": "2021-04-06T09:02:56.441754Z",
     "start_time": "2021-04-06T09:02:55.501Z"
    },
    "colab": {
     "base_uri": "https://localhost:8080/",
     "height": 437
    },
    "id": "i6hhUDJCNazV",
    "outputId": "1b1c37d6-fec1-4855-fde8-758b9edc4ffe"
   },
   "outputs": [
    {
     "data": {
      "image/png": "[encoded data removed]",
      "text/plain": [
       "plot without title"
      ]
     },
     "metadata": {},
     "output_type": "display_data"
    }
   ],
   "source": [
    "# Make a scatter plot with the marginal densities for any pair of variables\n",
    "# in the training data\n",
    "delta = 0.5 # bin width\n",
    "p1 =  ggplot(data = df_train, aes(x = V1, y= V2)) +\n",
    "geom_point(size = 2, alpha = 0.7) + xlab(\"V1\") + \n",
    "   ylab(\"V5\") + ggtitle(\"V1 and V5\") +\n",
    "   coord_fixed(ratio = 1) +\n",
    "   stat_ellipse(level = 0.68, color = 'red')+\n",
    "   stat_ellipse(level = 0.95, color = 'green')+\n",
    "   stat_ellipse(level = 0.997, color = 'blue')\n",
    "#p1\n",
    "  \n",
    "ggMarginal(p1, type = 'histogram', color = 'black', binwidth = delta) # V1 vs V2 scatter plot\n",
    "ggMarginal(p1, type = 'density', color = 'cyan') # Adding Density\n",
    "\n"
   ]
  },
  {
   "cell_type": "code",
   "execution_count": 12,
   "metadata": {
    "ExecuteTime": {
     "end_time": "2021-04-06T09:02:56.682494Z",
     "start_time": "2021-04-06T09:02:56.621Z"
    },
    "colab": {
     "base_uri": "https://localhost:8080/",
     "height": 466
    },
    "id": "HiiqXXP-NruT",
    "outputId": "bd3ec6dc-6f06-43ff-a01a-84eaa26a08a9"
   },
   "outputs": [
    {
     "data": {
      "text/html": [
       "<table class=\"dataframe\">\n",
       "<caption>A data.frame: 5 × 12</caption>\n",
       "<thead>\n",
       "\t<tr><th></th><th scope=col>V1</th><th scope=col>V2</th><th scope=col>V3</th><th scope=col>V4</th><th scope=col>V5</th><th scope=col>V6</th><th scope=col>V7</th><th scope=col>V8</th><th scope=col>V9</th><th scope=col>V10</th><th scope=col>V11</th><th scope=col>MD</th></tr>\n",
       "\t<tr><th></th><th scope=col>&lt;dbl&gt;</th><th scope=col>&lt;dbl&gt;</th><th scope=col>&lt;dbl&gt;</th><th scope=col>&lt;dbl&gt;</th><th scope=col>&lt;dbl&gt;</th><th scope=col>&lt;dbl&gt;</th><th scope=col>&lt;dbl&gt;</th><th scope=col>&lt;dbl&gt;</th><th scope=col>&lt;dbl&gt;</th><th scope=col>&lt;dbl&gt;</th><th scope=col>&lt;dbl&gt;</th><th scope=col>&lt;dbl&gt;</th></tr>\n",
       "</thead>\n",
       "<tbody>\n",
       "\t<tr><th scope=row>1</th><td>  6.653114</td><td> 13.689702</td><td>17.552845</td><td>-11.933497</td><td> -5.756409</td><td>15.435921</td><td>-12.1367520</td><td> 8.2241226</td><td> -4.8840241</td><td> 5.3493353</td><td>17.351372352</td><td>5.075584</td></tr>\n",
       "\t<tr><th scope=row>2</th><td> -5.630542</td><td>-18.937667</td><td>18.644624</td><td> -6.155825</td><td>-25.988864</td><td>15.409553</td><td>-16.5955163</td><td> 9.4546537</td><td> -2.8771734</td><td>-6.0094204</td><td>19.210636116</td><td>6.638485</td></tr>\n",
       "\t<tr><th scope=row>3</th><td>  9.721525</td><td> -9.982489</td><td>15.571434</td><td>-32.224266</td><td> -5.595799</td><td>24.321383</td><td>  0.8327735</td><td>10.7945546</td><td>  0.7275748</td><td>10.3929750</td><td> 7.085994903</td><td>5.820545</td></tr>\n",
       "\t<tr><th scope=row>4</th><td> -4.635766</td><td>-10.716040</td><td>20.356571</td><td> -9.002097</td><td> -4.920569</td><td>-4.261957</td><td> -1.3058288</td><td> 0.9499803</td><td> -8.6341066</td><td> 0.1984454</td><td> 0.006771413</td><td>4.058998</td></tr>\n",
       "\t<tr><th scope=row>5</th><td>-12.841044</td><td>-20.388313</td><td> 9.491936</td><td> -7.038500</td><td> -9.921087</td><td>-3.716105</td><td> -9.3847304</td><td>-2.3255336</td><td>-13.5185624</td><td>11.0070290</td><td>14.003210283</td><td>5.491532</td></tr>\n",
       "</tbody>\n",
       "</table>\n"
      ],
      "text/latex": [
       "A data.frame: 5 × 12\n",
       "\\begin{tabular}{r|llllllllllll}\n",
       "  & V1 & V2 & V3 & V4 & V5 & V6 & V7 & V8 & V9 & V10 & V11 & MD\\\\\n",
       "  & <dbl> & <dbl> & <dbl> & <dbl> & <dbl> & <dbl> & <dbl> & <dbl> & <dbl> & <dbl> & <dbl> & <dbl>\\\\\n",
       "\\hline\n",
       "\t1 &   6.653114 &  13.689702 & 17.552845 & -11.933497 &  -5.756409 & 15.435921 & -12.1367520 &  8.2241226 &  -4.8840241 &  5.3493353 & 17.351372352 & 5.075584\\\\\n",
       "\t2 &  -5.630542 & -18.937667 & 18.644624 &  -6.155825 & -25.988864 & 15.409553 & -16.5955163 &  9.4546537 &  -2.8771734 & -6.0094204 & 19.210636116 & 6.638485\\\\\n",
       "\t3 &   9.721525 &  -9.982489 & 15.571434 & -32.224266 &  -5.595799 & 24.321383 &   0.8327735 & 10.7945546 &   0.7275748 & 10.3929750 &  7.085994903 & 5.820545\\\\\n",
       "\t4 &  -4.635766 & -10.716040 & 20.356571 &  -9.002097 &  -4.920569 & -4.261957 &  -1.3058288 &  0.9499803 &  -8.6341066 &  0.1984454 &  0.006771413 & 4.058998\\\\\n",
       "\t5 & -12.841044 & -20.388313 &  9.491936 &  -7.038500 &  -9.921087 & -3.716105 &  -9.3847304 & -2.3255336 & -13.5185624 & 11.0070290 & 14.003210283 & 5.491532\\\\\n",
       "\\end{tabular}\n"
      ],
      "text/markdown": [
       "\n",
       "A data.frame: 5 × 12\n",
       "\n",
       "| <!--/--> | V1 &lt;dbl&gt; | V2 &lt;dbl&gt; | V3 &lt;dbl&gt; | V4 &lt;dbl&gt; | V5 &lt;dbl&gt; | V6 &lt;dbl&gt; | V7 &lt;dbl&gt; | V8 &lt;dbl&gt; | V9 &lt;dbl&gt; | V10 &lt;dbl&gt; | V11 &lt;dbl&gt; | MD &lt;dbl&gt; |\n",
       "|---|---|---|---|---|---|---|---|---|---|---|---|---|\n",
       "| 1 |   6.653114 |  13.689702 | 17.552845 | -11.933497 |  -5.756409 | 15.435921 | -12.1367520 |  8.2241226 |  -4.8840241 |  5.3493353 | 17.351372352 | 5.075584 |\n",
       "| 2 |  -5.630542 | -18.937667 | 18.644624 |  -6.155825 | -25.988864 | 15.409553 | -16.5955163 |  9.4546537 |  -2.8771734 | -6.0094204 | 19.210636116 | 6.638485 |\n",
       "| 3 |   9.721525 |  -9.982489 | 15.571434 | -32.224266 |  -5.595799 | 24.321383 |   0.8327735 | 10.7945546 |   0.7275748 | 10.3929750 |  7.085994903 | 5.820545 |\n",
       "| 4 |  -4.635766 | -10.716040 | 20.356571 |  -9.002097 |  -4.920569 | -4.261957 |  -1.3058288 |  0.9499803 |  -8.6341066 |  0.1984454 |  0.006771413 | 4.058998 |\n",
       "| 5 | -12.841044 | -20.388313 |  9.491936 |  -7.038500 |  -9.921087 | -3.716105 |  -9.3847304 | -2.3255336 | -13.5185624 | 11.0070290 | 14.003210283 | 5.491532 |\n",
       "\n"
      ],
      "text/plain": [
       "  V1         V2         V3        V4         V5         V6        V7         \n",
       "1   6.653114  13.689702 17.552845 -11.933497  -5.756409 15.435921 -12.1367520\n",
       "2  -5.630542 -18.937667 18.644624  -6.155825 -25.988864 15.409553 -16.5955163\n",
       "3   9.721525  -9.982489 15.571434 -32.224266  -5.595799 24.321383   0.8327735\n",
       "4  -4.635766 -10.716040 20.356571  -9.002097  -4.920569 -4.261957  -1.3058288\n",
       "5 -12.841044 -20.388313  9.491936  -7.038500  -9.921087 -3.716105  -9.3847304\n",
       "  V8         V9          V10        V11          MD      \n",
       "1  8.2241226  -4.8840241  5.3493353 17.351372352 5.075584\n",
       "2  9.4546537  -2.8771734 -6.0094204 19.210636116 6.638485\n",
       "3 10.7945546   0.7275748 10.3929750  7.085994903 5.820545\n",
       "4  0.9499803  -8.6341066  0.1984454  0.006771413 4.058998\n",
       "5 -2.3255336 -13.5185624 11.0070290 14.003210283 5.491532"
      ]
     },
     "metadata": {},
     "output_type": "display_data"
    },
    {
     "data": {
      "text/html": [
       "<table class=\"dataframe\">\n",
       "<caption>A data.frame: 5 × 12</caption>\n",
       "<thead>\n",
       "\t<tr><th></th><th scope=col>V1</th><th scope=col>V2</th><th scope=col>V3</th><th scope=col>V4</th><th scope=col>V5</th><th scope=col>V6</th><th scope=col>V7</th><th scope=col>V8</th><th scope=col>V9</th><th scope=col>V10</th><th scope=col>V11</th><th scope=col>MD</th></tr>\n",
       "\t<tr><th></th><th scope=col>&lt;dbl&gt;</th><th scope=col>&lt;dbl&gt;</th><th scope=col>&lt;dbl&gt;</th><th scope=col>&lt;dbl&gt;</th><th scope=col>&lt;dbl&gt;</th><th scope=col>&lt;dbl&gt;</th><th scope=col>&lt;dbl&gt;</th><th scope=col>&lt;dbl&gt;</th><th scope=col>&lt;dbl&gt;</th><th scope=col>&lt;dbl&gt;</th><th scope=col>&lt;dbl&gt;</th><th scope=col>&lt;dbl&gt;</th></tr>\n",
       "</thead>\n",
       "<tbody>\n",
       "\t<tr><th scope=row>1</th><td>18.271283</td><td>-12.359268</td><td> 5.000970</td><td>  1.611472</td><td> 1.088592</td><td>29.31441</td><td> -8.313531</td><td>36.438338</td><td> -9.4766787</td><td>-25.9281827</td><td> 7.108628</td><td>7.212771</td></tr>\n",
       "\t<tr><th scope=row>2</th><td>-3.193070</td><td>-19.705821</td><td> 6.528556</td><td>-21.570858</td><td> 3.050556</td><td>23.47750</td><td> -1.133420</td><td>12.688409</td><td>-10.9683011</td><td> -1.1986661</td><td> 1.908441</td><td>5.617825</td></tr>\n",
       "\t<tr><th scope=row>3</th><td>-5.256678</td><td>-12.918720</td><td>25.435141</td><td> -7.231568</td><td> 3.647838</td><td>12.36655</td><td> -6.512076</td><td> 8.750902</td><td> -0.7687545</td><td> -3.2610945</td><td>13.729474</td><td>5.103901</td></tr>\n",
       "\t<tr><th scope=row>4</th><td>12.953176</td><td>-10.350333</td><td>19.857858</td><td>-24.424608</td><td> 3.266105</td><td>30.44529</td><td>-11.125842</td><td>12.815629</td><td>  9.3513545</td><td> -6.1136236</td><td>17.627375</td><td>6.634932</td></tr>\n",
       "\t<tr><th scope=row>5</th><td> 3.763819</td><td> -5.728187</td><td>11.400169</td><td>-17.555297</td><td>-6.246576</td><td>16.15597</td><td> -9.724758</td><td>16.996616</td><td> -5.1686543</td><td>  0.1879945</td><td>11.401234</td><td>4.609664</td></tr>\n",
       "</tbody>\n",
       "</table>\n"
      ],
      "text/latex": [
       "A data.frame: 5 × 12\n",
       "\\begin{tabular}{r|llllllllllll}\n",
       "  & V1 & V2 & V3 & V4 & V5 & V6 & V7 & V8 & V9 & V10 & V11 & MD\\\\\n",
       "  & <dbl> & <dbl> & <dbl> & <dbl> & <dbl> & <dbl> & <dbl> & <dbl> & <dbl> & <dbl> & <dbl> & <dbl>\\\\\n",
       "\\hline\n",
       "\t1 & 18.271283 & -12.359268 &  5.000970 &   1.611472 &  1.088592 & 29.31441 &  -8.313531 & 36.438338 &  -9.4766787 & -25.9281827 &  7.108628 & 7.212771\\\\\n",
       "\t2 & -3.193070 & -19.705821 &  6.528556 & -21.570858 &  3.050556 & 23.47750 &  -1.133420 & 12.688409 & -10.9683011 &  -1.1986661 &  1.908441 & 5.617825\\\\\n",
       "\t3 & -5.256678 & -12.918720 & 25.435141 &  -7.231568 &  3.647838 & 12.36655 &  -6.512076 &  8.750902 &  -0.7687545 &  -3.2610945 & 13.729474 & 5.103901\\\\\n",
       "\t4 & 12.953176 & -10.350333 & 19.857858 & -24.424608 &  3.266105 & 30.44529 & -11.125842 & 12.815629 &   9.3513545 &  -6.1136236 & 17.627375 & 6.634932\\\\\n",
       "\t5 &  3.763819 &  -5.728187 & 11.400169 & -17.555297 & -6.246576 & 16.15597 &  -9.724758 & 16.996616 &  -5.1686543 &   0.1879945 & 11.401234 & 4.609664\\\\\n",
       "\\end{tabular}\n"
      ],
      "text/markdown": [
       "\n",
       "A data.frame: 5 × 12\n",
       "\n",
       "| <!--/--> | V1 &lt;dbl&gt; | V2 &lt;dbl&gt; | V3 &lt;dbl&gt; | V4 &lt;dbl&gt; | V5 &lt;dbl&gt; | V6 &lt;dbl&gt; | V7 &lt;dbl&gt; | V8 &lt;dbl&gt; | V9 &lt;dbl&gt; | V10 &lt;dbl&gt; | V11 &lt;dbl&gt; | MD &lt;dbl&gt; |\n",
       "|---|---|---|---|---|---|---|---|---|---|---|---|---|\n",
       "| 1 | 18.271283 | -12.359268 |  5.000970 |   1.611472 |  1.088592 | 29.31441 |  -8.313531 | 36.438338 |  -9.4766787 | -25.9281827 |  7.108628 | 7.212771 |\n",
       "| 2 | -3.193070 | -19.705821 |  6.528556 | -21.570858 |  3.050556 | 23.47750 |  -1.133420 | 12.688409 | -10.9683011 |  -1.1986661 |  1.908441 | 5.617825 |\n",
       "| 3 | -5.256678 | -12.918720 | 25.435141 |  -7.231568 |  3.647838 | 12.36655 |  -6.512076 |  8.750902 |  -0.7687545 |  -3.2610945 | 13.729474 | 5.103901 |\n",
       "| 4 | 12.953176 | -10.350333 | 19.857858 | -24.424608 |  3.266105 | 30.44529 | -11.125842 | 12.815629 |   9.3513545 |  -6.1136236 | 17.627375 | 6.634932 |\n",
       "| 5 |  3.763819 |  -5.728187 | 11.400169 | -17.555297 | -6.246576 | 16.15597 |  -9.724758 | 16.996616 |  -5.1686543 |   0.1879945 | 11.401234 | 4.609664 |\n",
       "\n"
      ],
      "text/plain": [
       "  V1        V2         V3        V4         V5        V6       V7        \n",
       "1 18.271283 -12.359268  5.000970   1.611472  1.088592 29.31441  -8.313531\n",
       "2 -3.193070 -19.705821  6.528556 -21.570858  3.050556 23.47750  -1.133420\n",
       "3 -5.256678 -12.918720 25.435141  -7.231568  3.647838 12.36655  -6.512076\n",
       "4 12.953176 -10.350333 19.857858 -24.424608  3.266105 30.44529 -11.125842\n",
       "5  3.763819  -5.728187 11.400169 -17.555297 -6.246576 16.15597  -9.724758\n",
       "  V8        V9          V10         V11       MD      \n",
       "1 36.438338  -9.4766787 -25.9281827  7.108628 7.212771\n",
       "2 12.688409 -10.9683011  -1.1986661  1.908441 5.617825\n",
       "3  8.750902  -0.7687545  -3.2610945 13.729474 5.103901\n",
       "4 12.815629   9.3513545  -6.1136236 17.627375 6.634932\n",
       "5 16.996616  -5.1686543   0.1879945 11.401234 4.609664"
      ]
     },
     "metadata": {},
     "output_type": "display_data"
    }
   ],
   "source": [
    "## Build model using training data \n",
    "mu_train = mean(X_train) # mean training sample\n",
    "S_train = cov(as.data.frame(X_train)) # sample covariance matrix using training data\n",
    "S_train_inverse = solve(S_train)  # inverse of sample covariance matrix from training data\n",
    "\n",
    "# Mahalanobis distance of training samples\n",
    "M_distance_train = apply(X_train, 1, function(x){sqrt(t(x-mu_train) %*% S_train_inverse %*% (x-mu_train))})\n",
    "\n",
    "# Mahalanobis distance of validation samples using model built using training data\n",
    "M_distance_validate = apply(X_validate, 1, function(x){sqrt(t(x-mu_train) %*% S_train_inverse %*% (x-mu_train))})\n",
    "\n",
    "# Add Mahalanobis distance as new column of training and validation data frame\n",
    "df_train$MD = M_distance_train \n",
    "df_validate$MD = M_distance_validate\n",
    "head(df_train, n = 5)\n",
    "head(df_validate, n =5)"
   ]
  },
  {
   "cell_type": "code",
   "execution_count": 13,
   "metadata": {
    "ExecuteTime": {
     "end_time": "2021-04-06T09:02:58.114552Z",
     "start_time": "2021-04-06T09:02:58.074Z"
    },
    "colab": {
     "base_uri": "https://localhost:8080/"
    },
    "id": "h94T0U7mOCYX",
    "outputId": "e4d2beab-cdc4-4a7d-faf6-641b364330da"
   },
   "outputs": [
    {
     "name": "stdout",
     "output_type": "stream",
     "text": [
      "[1] 43.20596\n",
      "Threshold = 43.205960\n",
      "For probability cutoff = 0.999990, \n",
      "Precision = 0.700000,\n",
      "Recall = 0.700000,\n",
      "F1 score = 0.700000,\n",
      "Fraction of outliers in training data = 0.047000\n"
     ]
    }
   ],
   "source": [
    "## Determine cutoff probability such that we get the best performance on the validation set\n",
    "## Best performance corresponds to, for example, the best F1 score (close to 1)\n",
    "\n",
    "# Add a new column to training and validation data frame for outliers\n",
    "k = ncol(X_train) # dimensions\n",
    "j = 5 # vary this to change cutoff probability, j = 5 we see balance\n",
    "cutoff_probability = 1-(10^(-j))\n",
    "threshold = qchisq(cutoff_probability, k) # threshold for Mahalanobis distance\n",
    "df_train$Outliers = ((df_train$MD)^2 >= threshold)\n",
    "df_validate$Outliers = ((df_validate$MD)^2 >= threshold)\n",
    "print(threshold)\n",
    "\n",
    "# True positives\n",
    "tp = sum((df_validate$Outliers == 'TRUE') & (y_validate == 1))\n",
    "# False positives\n",
    "fp = sum((df_validate$Outliers == 'TRUE') & (y_validate == 0))\n",
    "# False negatives\n",
    "fn = sum((df_validate$Outliers == 'FALSE') & (y_validate == 1))\n",
    "# Precision\n",
    "precision = tp / (tp + fp) # (tp + fp) all detected as outliers\n",
    "# Recall\n",
    "recall = tp / (tp + fn) #(tp + fn) actual outliers\n",
    "# F1 score\n",
    "F1 = (2 * precision * recall) / (precision + recall)\n",
    "# F score dhould always be closer to 1, i.e, when precision = recall\n",
    "\n",
    "cat(sprintf('Threshold = %f\\n', threshold))\n",
    "cat(sprintf('For probability cutoff = %f, \\nPrecision = %f,\\nRecall = %f,\\nF1 score = %f,\\nFraction of outliers in training data = %f\\n', cutoff_probability, precision, recall, F1,mean(df_train$Outliers == 'TRUE')))"
   ]
  },
  {
   "cell_type": "code",
   "execution_count": 14,
   "metadata": {
    "ExecuteTime": {
     "end_time": "2021-04-06T09:02:59.013697Z",
     "start_time": "2021-04-06T09:02:58.981Z"
    },
    "id": "IJsah4LoDa4P"
   },
   "outputs": [
    {
     "name": "stdout",
     "output_type": "stream",
     "text": [
      "[1] 0.9\n",
      "[1] 17.27501\n"
     ]
    }
   ],
   "source": [
    "j = 1\n",
    "k = 11 # dimensions or the num of features\n",
    "cutoff_probability = 1-(10^(-j))\n",
    "print(cutoff_probability)\n",
    "threshold = qchisq(cutoff_probability, k)\n",
    "print(threshold)"
   ]
  },
  {
   "cell_type": "markdown",
   "metadata": {},
   "source": [
    "0.9\n",
    "\n",
    "17.27501\n",
    "\n",
    "90% are less than 17.27501 which aren not outliers\n",
    "\n",
    "=> 90% aren't outliers and 10% are outliers for j =1"
   ]
  },
  {
   "cell_type": "code",
   "execution_count": null,
   "metadata": {},
   "outputs": [],
   "source": []
  }
 ],
 "metadata": {
  "colab": {
   "collapsed_sections": [],
   "name": "MCL602_MultivariateOutlierExercise_R_VP.ipynb",
   "provenance": []
  },
  "kernelspec": {
   "display_name": "R",
   "language": "R",
   "name": "ir"
  },
  "language_info": {
   "codemirror_mode": "r",
   "file_extension": ".r",
   "mimetype": "text/x-r-source",
   "name": "R",
   "pygments_lexer": "r",
   "version": "3.6.1"
  },
  "nbTranslate": {
   "displayLangs": [
    "*"
   ],
   "hotkey": "alt-t",
   "langInMainMenu": true,
   "sourceLang": "en",
   "targetLang": "fr",
   "useGoogleTranslate": true
  }
 },
 "nbformat": 4,
 "nbformat_minor": 1
}
